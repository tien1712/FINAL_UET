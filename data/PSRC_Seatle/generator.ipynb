{
 "cells": [
  {
   "cell_type": "code",
   "execution_count": 21,
   "id": "ba6f16f7",
   "metadata": {},
   "outputs": [
    {
     "name": "stdout",
     "output_type": "stream",
     "text": [
      "Dữ liệu đã được chuyển đổi và lưu vào 'text_data.csv'\n"
     ]
    },
    {
     "name": "stderr",
     "output_type": "stream",
     "text": [
      "/var/folders/cm/gh503hx51qx6vv971brshjdc0000gn/T/ipykernel_4295/3812602676.py:34: FutureWarning: Downcasting behavior in `replace` is deprecated and will be removed in a future version. To retain the old behavior, explicitly call `result.infer_objects(copy=False)`. To opt-in to the future behavior, set `pd.set_option('future.no_silent_downcasting', True)`\n",
      "  df['CHOICE'] = df[\"mode_class\"].replace(mode_map).astype(int)\n"
     ]
    }
   ],
   "source": [
    "import pandas as pd\n",
    "\n",
    "# Đọc dữ liệu từ tệp CSV\n",
    "df = pd.read_csv('selected.csv')\n",
    "\n",
    "\n",
    "# Hàm để tạo chuỗi văn bản từ một hàng dữ liệu\n",
    "def create_text(row):\n",
    "    depart_time_hour = int(row[\"depart_time_hour\"])\n",
    "    depart_time_minute = int(row[\"depart_time_minute\"])\n",
    "    depart_time_second = int(row[\"depart_time_second\"])\n",
    "    distance = float(row[\"distance_miles\"])\n",
    "    purpose = str(row[\"dest_purpose_cat\"])\n",
    "    age = str(row[\"age\"])\n",
    "    gender = str(row[\"gender\"])\n",
    "    education = str(row[\"education\"])\n",
    "    vehicle = str(row[\"vehicle_count\"])\n",
    "    income = str(row[\"hhincome_broad\"])\n",
    "    return (f\"The trip distance is {distance} miles, and trip purpose is {purpose}. Trip starts at {depart_time_hour}:{depart_time_minute}:{depart_time_second}. \"  \n",
    "            f\"Traveler is {age} old, {gender}, with {education}. \"\n",
    "            f\"The person's household owns {vehicle}, and the household income is {income}. \"\n",
    "    )\n",
    "#Test\n",
    "#print(create_text(df.iloc[0]))\n",
    "# Tạo cột văn bản mới\n",
    "mode_map = {\n",
    "    \"Drive\": 1,\n",
    "    \"Walk\": 2,\n",
    "    \"Transit\": 3,\n",
    "    \"Bike/Mircomobility\": 4\n",
    "}\n",
    "df['INFOR'] = df.apply(create_text, axis=1)\n",
    "df['ID'] = df['person_id']\n",
    "df['CHOICE'] = df[\"mode_class\"].replace(mode_map).astype(int)\n",
    "\n",
    "\n",
    "# # Lưu kết quả vào tệp CSV mới\n",
    "df[['ID', 'INFOR', 'CHOICE']].to_csv('textdata.csv', index=False)\n",
    "\n",
    "print(\"Dữ liệu đã được chuyển đổi và lưu vào 'text_data.csv'\")"
   ]
  },
  {
   "cell_type": "code",
   "execution_count": 22,
   "id": "2ec4bccc",
   "metadata": {},
   "outputs": [
    {
     "name": "stdout",
     "output_type": "stream",
     "text": [
      "Tổng số mẫu: 3498\n",
      "Train set: 2798 mẫu (80.0%)\n",
      "Test set: 700 mẫu (20.0%)\n"
     ]
    }
   ],
   "source": [
    "import pandas as pd\n",
    "from sklearn.model_selection import train_test_split\n",
    "\n",
    "# Đọc dữ liệu từ file\n",
    "df = pd.read_csv(\"textdata.csv\")  # Đảm bảo file nằm cùng thư mục với script\n",
    "\n",
    "temp_df, test_df = train_test_split(df, test_size=0.2, stratify=df['CHOICE'], random_state=42)\n",
    "\n",
    "\n",
    "temp_df.to_csv(\"train.csv\", index=False) \n",
    "test_df.to_csv(\"test.csv\", index=False)\n",
    "\n",
    "# In thông tin về kích thước các tập dữ liệu\n",
    "print(f\"Tổng số mẫu: {len(df)}\")\n",
    "print(f\"Train set: {len(temp_df)} mẫu ({len(temp_df)/len(df)*100:.1f}%)\")\n",
    "print(f\"Test set: {len(test_df)} mẫu ({len(test_df)/len(df)*100:.1f}%)\")"
   ]
  }
 ],
 "metadata": {
  "kernelspec": {
   "display_name": "FINAL",
   "language": "python",
   "name": "python3"
  },
  "language_info": {
   "codemirror_mode": {
    "name": "ipython",
    "version": 3
   },
   "file_extension": ".py",
   "mimetype": "text/x-python",
   "name": "python",
   "nbconvert_exporter": "python",
   "pygments_lexer": "ipython3",
   "version": "3.11.11"
  }
 },
 "nbformat": 4,
 "nbformat_minor": 5
}
