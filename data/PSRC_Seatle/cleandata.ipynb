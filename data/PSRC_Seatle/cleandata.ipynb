{
 "cells": [
  {
   "cell_type": "code",
   "execution_count": 27,
   "id": "77d96c74",
   "metadata": {},
   "outputs": [
    {
     "name": "stderr",
     "output_type": "stream",
     "text": [
      "/var/folders/cm/gh503hx51qx6vv971brshjdc0000gn/T/ipykernel_3552/1788851136.py:4: DtypeWarning: Columns (3,4,5,8,9,15,23,25,26,27,28,29,30,31,40,42,43,44,45,46,47,48,49,50,51,52,53,54,55,56,57,58,59,60,68,70,71,76,77,80,81,82,83,84,85,86,87,88,89,90,91,92,94,97,98,99,100) have mixed types. Specify dtype option on import or set low_memory=False.\n",
      "  df_persons = pd.read_csv('Persons.csv')\n",
      "/var/folders/cm/gh503hx51qx6vv971brshjdc0000gn/T/ipykernel_3552/1788851136.py:5: DtypeWarning: Columns (5) have mixed types. Specify dtype option on import or set low_memory=False.\n",
      "  df_households = pd.read_csv('Households.csv')\n"
     ]
    }
   ],
   "source": [
    "import pandas as pd\n",
    "\n",
    "df_trips = pd.read_csv('Trips.csv')\n",
    "df_persons = pd.read_csv('Persons.csv')\n",
    "df_households = pd.read_csv('Households.csv')\n",
    "\n",
    "# Chuẩn hóa kiểu dữ liệu để tránh lệch kiểu (int vs str)\n",
    "df_trips['household_id'] = df_trips['household_id'].astype(str)\n",
    "df_persons['household_id'] = df_persons['household_id'].astype(str)\n",
    "df_households['household_id'] = df_households['household_id'].astype(str)\n",
    "\n",
    "# Lấy mảng id ở trip và lọc ở person và household\n",
    "hh_ids = df_trips['household_id'].dropna().unique()\n",
    "df_persons_filtered = df_persons[df_persons['household_id'].isin(hh_ids)]\n",
    "df_households_filtered = df_households[df_households['household_id'].isin(hh_ids)]\n",
    "df_persons_filtered.to_csv('persons_cleaned.csv', index=False)\n",
    "df_households_filtered.to_csv('households_cleaned.csv', index=False)\n"
   ]
  },
  {
   "cell_type": "code",
   "execution_count": 28,
   "id": "90a0e576",
   "metadata": {},
   "outputs": [
    {
     "name": "stderr",
     "output_type": "stream",
     "text": [
      "/var/folders/cm/gh503hx51qx6vv971brshjdc0000gn/T/ipykernel_3552/1891899725.py:2: SettingWithCopyWarning: \n",
      "A value is trying to be set on a copy of a slice from a DataFrame\n",
      "\n",
      "See the caveats in the documentation: https://pandas.pydata.org/pandas-docs/stable/user_guide/indexing.html#returning-a-view-versus-a-copy\n",
      "  person.dropna(inplace=True)\n",
      "/var/folders/cm/gh503hx51qx6vv971brshjdc0000gn/T/ipykernel_3552/1891899725.py:8: SettingWithCopyWarning: \n",
      "A value is trying to be set on a copy of a slice from a DataFrame.\n",
      "Try using .loc[row_indexer,col_indexer] = value instead\n",
      "\n",
      "See the caveats in the documentation: https://pandas.pydata.org/pandas-docs/stable/user_guide/indexing.html#returning-a-view-versus-a-copy\n",
      "  person['gender'] = person['gender'].replace(map_gender)\n"
     ]
    }
   ],
   "source": [
    "person = df_persons_filtered[['household_id', 'person_id', 'age', 'gender', 'education']]\n",
    "person.dropna(inplace=True)\n",
    "map_gender = {\n",
    "    'Girl/Woman (cisgender or transgender)': 'Female',\n",
    "    'Boy/Man (cisgender or transgender)': 'Male',\n",
    "    'Non-binary/Something else fits better': 'Non-binary'\n",
    "}\n",
    "person['gender'] = person['gender'].replace(map_gender)\n",
    "person.to_csv('persons_cleaned.csv', index=False)\n"
   ]
  },
  {
   "cell_type": "code",
   "execution_count": 29,
   "id": "992ce33f",
   "metadata": {},
   "outputs": [],
   "source": [
    "person = person[person['gender'] != \"Missing Response\"]\n",
    "person = person[person['education'] != \"Missing: Skip Logic\"]\n",
    "person.to_csv('persons_cleaned.csv', index=False)"
   ]
  },
  {
   "cell_type": "code",
   "execution_count": 30,
   "id": "bef300be",
   "metadata": {},
   "outputs": [],
   "source": [
    "map_age = {\n",
    "    '75-84 years': '75 years or older',\n",
    "    '85 years or older': '75 years or older'\n",
    "}\n",
    "person['age'] = person['age'].replace(map_age)\n",
    "person.to_csv('persons_cleaned.csv', index=False)\n",
    "\n",
    "\n"
   ]
  },
  {
   "cell_type": "code",
   "execution_count": 33,
   "id": "6c7f18d1",
   "metadata": {},
   "outputs": [
    {
     "name": "stdout",
     "output_type": "stream",
     "text": [
      "824\n"
     ]
    }
   ],
   "source": [
    "person = person[person['education'] != \"Prefer not to answer\"]\n",
    "person.to_csv('persons_cleaned.csv', index=False)\n",
    "print(len(person))\n"
   ]
  },
  {
   "cell_type": "code",
   "execution_count": 34,
   "id": "135a9922",
   "metadata": {},
   "outputs": [
    {
     "name": "stderr",
     "output_type": "stream",
     "text": [
      "/var/folders/cm/gh503hx51qx6vv971brshjdc0000gn/T/ipykernel_3552/1257654586.py:2: SettingWithCopyWarning: \n",
      "A value is trying to be set on a copy of a slice from a DataFrame\n",
      "\n",
      "See the caveats in the documentation: https://pandas.pydata.org/pandas-docs/stable/user_guide/indexing.html#returning-a-view-versus-a-copy\n",
      "  household.dropna(inplace=True)\n"
     ]
    }
   ],
   "source": [
    "household = df_households_filtered[['household_id', 'hhincome_broad', 'vehicle_count']]\n",
    "household.dropna(inplace=True)\n",
    "household.to_csv('households_cleaned.csv', index=False)"
   ]
  },
  {
   "cell_type": "code",
   "execution_count": null,
   "id": "c201d671",
   "metadata": {},
   "outputs": [],
   "source": [
    "household = household[household['hhincome_broad'] != \"Prefer not to answer\"]\n",
    "household.to_csv('households_cleaned.csv', index=False)\n"
   ]
  },
  {
   "cell_type": "code",
   "execution_count": 42,
   "id": "0cfe05db",
   "metadata": {},
   "outputs": [],
   "source": [
    "hh_ids = household['household_id'].unique()\n",
    "df_persons_filtered = person[person['household_id'].isin(hh_ids)]\n",
    "df_trips_filtered = df_trips[df_trips['household_id'].isin(hh_ids)]\n",
    "df_persons_filtered.to_csv('persons_cleaned.csv', index=False)\n",
    "df_trips_filtered.to_csv('trips_cleaned.csv', index=False)\n",
    "\n"
   ]
  },
  {
   "cell_type": "code",
   "execution_count": 88,
   "id": "cc19f33f",
   "metadata": {},
   "outputs": [
    {
     "name": "stdout",
     "output_type": "stream",
     "text": [
      "(775, 7) rows\n"
     ]
    }
   ],
   "source": [
    "import pandas as pd\n",
    "\n",
    "# Đọc dữ liệu\n",
    "persons = pd.read_csv('persons_cleaned.csv')\n",
    "households = pd.read_csv('households_cleaned.csv')\n",
    "\n",
    "# Chuẩn hóa tên/cột khóa nếu cần\n",
    "key_persons = 'household_id'\n",
    "key_households = 'household_id'  # đổi lại nếu tên khác\n",
    "\n",
    "# Đồng bộ kiểu dữ liệu để tránh lệch kiểu\n",
    "persons[key_persons] = persons[key_persons].astype(str)\n",
    "households[key_households] = households[key_households].astype(str)\n",
    "\n",
    "# Merge: chọn kiểu join (inner/left/right/outer)\n",
    "merged = persons.merge(\n",
    "    households,\n",
    "    left_on=key_persons,\n",
    "    right_on=key_households,\n",
    "    how='inner',           # 'left' nếu muốn giữ toàn bộ persons\n",
    "    suffixes=('_person', '_hh')\n",
    ")\n",
    "\n",
    "# Lưu kết quả\n",
    "merged.to_csv('persons_households_merged1.csv', index=False)\n",
    "print(merged.shape, 'rows')"
   ]
  },
  {
   "cell_type": "code",
   "execution_count": null,
   "id": "2e074a67",
   "metadata": {},
   "outputs": [],
   "source": [
    "trip = pd.read_csv('trips_cleaned.csv')\n",
    "trip = trip[['household_id','trip_id', 'person_id', 'mode_class','distance_miles', 'depart_time_hour', 'depart_time_minute', 'depart_time_second', 'dest_purpose_cat']]\n",
    "trip.dropna(inplace=True)\n",
    "trip.to_csv('trips_cleaned1.csv', index=False)\n"
   ]
  },
  {
   "cell_type": "code",
   "execution_count": null,
   "id": "6ffda0ed",
   "metadata": {},
   "outputs": [],
   "source": [
    "trip = trip[trip['mode_class'] != \"Missing Response\"]\n",
    "trip = trip[trip['mode_class'] != \"Ride Hail\"]\n",
    "trip = trip[trip['mode_class'] != \"Other\"]\n",
    "trip = trip[trip['mode_class'] != \"School Bus\"]\n",
    "trip = trip[trip['mode_class'] != \"Drive HOV2\"]\n",
    "trip = trip[trip['mode_class'] != \"Drive HOV3+\"]\n",
    "trip.to_csv('trips_cleaned1.csv', index=False)\n",
    "\n"
   ]
  },
  {
   "cell_type": "code",
   "execution_count": 63,
   "id": "8d21bb5b",
   "metadata": {},
   "outputs": [
    {
     "name": "stdout",
     "output_type": "stream",
     "text": [
      "['Transit' 'Walk' 'Drive SOV' 'Drive HOV2' 'Drive HOV3+' 'Bike'\n",
      " 'Micromobility']\n",
      "['Personal Business/Errand/Appointment' 'Home' 'Work' 'Shopping'\n",
      " 'Social/Recreation' 'Meal' 'Overnight' 'Escort' 'School' 'Change mode']\n"
     ]
    }
   ],
   "source": [
    "print(trip['mode_class'].unique())\n",
    "print(trip['dest_purpose_cat'].unique())"
   ]
  },
  {
   "cell_type": "code",
   "execution_count": 58,
   "id": "6e01b5d9",
   "metadata": {},
   "outputs": [],
   "source": [
    "trip = trip[trip['dest_purpose_cat'] != \"Other\"]\n",
    "trip = trip[trip['dest_purpose_cat'] != \"School-related\"]\n",
    "trip = trip[trip['dest_purpose_cat'] != \"Work-related\"]\n",
    "trip.to_csv('trips_cleaned1.csv', index=False)"
   ]
  },
  {
   "cell_type": "code",
   "execution_count": 71,
   "id": "ba98da81",
   "metadata": {},
   "outputs": [],
   "source": [
    "mode_map = {\n",
    "    \"Bike\":\"Bike/Micromobility\",\n",
    "    \"Micromobility\":\"Bike/Micromobility\",\n",
    "}\n",
    "trip1['mode_class'] = trip1['mode_class'].replace(mode_map)\n",
    "trip1.to_csv('trips_cleaned2.csv', index=False)\n"
   ]
  },
  {
   "cell_type": "code",
   "execution_count": 89,
   "id": "588fd0b5",
   "metadata": {},
   "outputs": [
    {
     "name": "stdout",
     "output_type": "stream",
     "text": [
      "(3650, 15) rows\n"
     ]
    }
   ],
   "source": [
    "import pandas as pd\n",
    "\n",
    "# Đọc dữ liệu\n",
    "persons = pd.read_csv('persons_households_merged.csv')\n",
    "trips = pd.read_csv('trips_cleaned2.csv')\n",
    "\n",
    "# Chuẩn hóa tên/cột khóa nếu cần\n",
    "key_persons = 'person_id'\n",
    "key_trips = 'person_id'  # đổi lại nếu tên khác\n",
    "\n",
    "# Đồng bộ kiểu dữ liệu để tránh lệch kiểu\n",
    "persons[key_persons] = persons[key_persons].astype(str)\n",
    "trips[key_trips] = trips[key_trips].astype(str)\n",
    "\n",
    "# Merge: chọn kiểu join (inner/left/right/outer)\n",
    "merged = persons.merge(\n",
    "    trips,\n",
    "    left_on=key_persons,\n",
    "    right_on=key_trips,\n",
    "    how='inner',           # 'left' nếu muốn giữ toàn bộ persons\n",
    "    suffixes=('_person', '_hh')\n",
    ")\n",
    "\n",
    "# Lưu kết quả\n",
    "merged.to_csv('persons_households_trips_merged.csv', index=False)\n",
    "print(merged.shape, 'rows')"
   ]
  },
  {
   "cell_type": "code",
   "execution_count": 84,
   "id": "661365ee",
   "metadata": {},
   "outputs": [
    {
     "name": "stdout",
     "output_type": "stream",
     "text": [
      "586\n"
     ]
    }
   ],
   "source": [
    "print(len(df['person_id'].unique()))"
   ]
  },
  {
   "cell_type": "code",
   "execution_count": 82,
   "id": "f6b0ca41",
   "metadata": {},
   "outputs": [
    {
     "name": "stdout",
     "output_type": "stream",
     "text": [
      "               Variable     Value  Frequency/Mean Percentage/SD\n",
      "0   household_id_person  23220745              82         2.34%\n",
      "1   household_id_person  23107439              66         1.89%\n",
      "2   household_id_person  23215575              48         1.37%\n",
      "3   household_id_person  23072538              45         1.29%\n",
      "4   household_id_person  23165095              45         1.29%\n",
      "5   household_id_person  23036633              44         1.26%\n",
      "6   household_id_person  23109643              39         1.11%\n",
      "7   household_id_person  23216854              39         1.11%\n",
      "8   household_id_person  23132795              38         1.09%\n",
      "9   household_id_person  23177095              38         1.09%\n",
      "10  household_id_person  23031117              37         1.06%\n",
      "11  household_id_person  23101273              37         1.06%\n",
      "12  household_id_person  23136722              36         1.03%\n",
      "13  household_id_person  23045531              34         0.97%\n",
      "14  household_id_person  23092634              34         0.97%\n",
      "15  household_id_person  23010629              33         0.94%\n",
      "16  household_id_person  23170689              32         0.91%\n",
      "17  household_id_person  23160732              32         0.91%\n",
      "18  household_id_person  23222034              30         0.86%\n",
      "19  household_id_person  23198315              30         0.86%\n",
      "20  household_id_person  23204978              29         0.83%\n",
      "21  household_id_person  23051670              29         0.83%\n",
      "22  household_id_person  23075813              29         0.83%\n",
      "23  household_id_person  23074536              28          0.8%\n",
      "24  household_id_person  23042140              28          0.8%\n",
      "25  household_id_person  23190613              28          0.8%\n",
      "26  household_id_person  23005895              27         0.77%\n",
      "27  household_id_person  23176262              27         0.77%\n",
      "28  household_id_person  23167215              26         0.74%\n",
      "29  household_id_person  23043225              26         0.74%\n"
     ]
    }
   ],
   "source": [
    "import pandas as pd\n",
    "df=pd.read_csv('data.csv')\n",
    "\n",
    "def summarize_categorical(df, col, labels=None):\n",
    "    \"\"\"\n",
    "    Thống kê tần suất và phần trăm cho biến phân loại.\n",
    "    \"\"\"\n",
    "    series = df[col].map(labels) if labels else df[col]\n",
    "    freq = series.value_counts(dropna=False)\n",
    "    percent = series.value_counts(normalize=True, dropna=False) * 100\n",
    "    summary = pd.DataFrame({\n",
    "        \"Variable\": col,\n",
    "        \"Value\": freq.index,\n",
    "        \"Frequency/Mean\": freq.values,\n",
    "        \"Percentage/SD\": percent.round(2).astype(str) + \"%\"\n",
    "    })\n",
    "    return summary\n",
    "\n",
    "# Ví dụ: áp dụng cho tất cả các cột của df\n",
    "summaries = []\n",
    "\n",
    "for col in df.columns:\n",
    "    try:\n",
    "        summaries.append(summarize_categorical(df, col))\n",
    "    except Exception as e:\n",
    "        print(f\"Bỏ qua cột {col}: {e}\")\n",
    "\n",
    "summary_all = pd.concat(summaries, ignore_index=True)\n",
    "\n",
    "print(summary_all.head(30))\n",
    "\n",
    "# Xuất ra file\n",
    "summary_all.to_csv(\"summary_all_categoricals.csv\", index=False)\n",
    "\n"
   ]
  }
 ],
 "metadata": {
  "kernelspec": {
   "display_name": "FINAL",
   "language": "python",
   "name": "python3"
  },
  "language_info": {
   "codemirror_mode": {
    "name": "ipython",
    "version": 3
   },
   "file_extension": ".py",
   "mimetype": "text/x-python",
   "name": "python",
   "nbconvert_exporter": "python",
   "pygments_lexer": "ipython3",
   "version": "3.11.11"
  }
 },
 "nbformat": 4,
 "nbformat_minor": 5
}
