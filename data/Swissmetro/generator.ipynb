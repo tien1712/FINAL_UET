{
 "cells": [
  {
   "cell_type": "code",
   "execution_count": 5,
   "id": "ba6f16f7",
   "metadata": {},
   "outputs": [
    {
     "name": "stdout",
     "output_type": "stream",
     "text": [
      "Dữ liệu đã được chuyển đổi và lưu vào 'text_data.csv'\n"
     ]
    }
   ],
   "source": [
    "import pandas as pd\n",
    "\n",
    "# Đọc dữ liệu từ tệp CSV\n",
    "df = pd.read_csv('selected.csv')\n",
    "\n",
    "ticket_map = {\n",
    "    1: \"Two way with half price card\", 2: \"One way with half price card\",\n",
    "    3: \"Two way normal price\", 4: \"One way normal price\", 5: \"Half day\",\n",
    "    6: \"Annual season ticket\", 7: \"Annual season ticket Junior or Senior\",\n",
    "    8: \"Free travel after 7pm card\", 9: \"Group ticket\"\n",
    "}\n",
    "\n",
    "purpose_map = {\n",
    "    1: \"Commuter\", 2: \"Shopping\", 3: \"Business\", 4: \"Leisure\", \n",
    "    5: \"Return from work\", 6: \"Return from shopping\", \n",
    "    7: \"Return from business\", 8: \"Return from leisure\"\n",
    "}\n",
    "\n",
    "group_map = {\n",
    "    3: \"a regular Road user\", 2: \"a regular Train user\"\n",
    "}\n",
    "age_map = {\n",
    "    1: \"less than 24\",\n",
    "    2: \"between 24 and 39\",\n",
    "    3: \"between 39 and 54\",\n",
    "    4: \"between 54 and 65\",\n",
    "    5: \"more than 65\"\n",
    "}\n",
    "\n",
    "income_map = {\n",
    "    0: \"under 50000\",\n",
    "    1: \"under 50000\",\n",
    "    2: \"between 50000 and 100000\",\n",
    "    3: \"over 100000\"\n",
    "}\n",
    "\n",
    "male_map = {\n",
    "    0: \"female\",\n",
    "    1: \"male\"\n",
    "}\n",
    "\n",
    "# Hàm để tạo chuỗi văn bản từ một hàng dữ liệu\n",
    "def create_text(row):\n",
    "    travel_time = {\n",
    "        \"Train\": int(row[\"TRAIN_TT\"]),\n",
    "        \"Car\": int(row[\"CAR_TT\"]),\n",
    "        \"Swissmetro\": int(row[\"SM_TT\"])\n",
    "    }\n",
    "    travel_cost = {\n",
    "        \"Train\": int(row[\"TRAIN_CO\"]),\n",
    "        \"Car\": int(row[\"CAR_CO\"]),\n",
    "        \"Swissmetro\": int(row[\"SM_CO\"])\n",
    "    }\n",
    "    group = group_map.get(int(row[\"GROUP\"]))\n",
    "    purpose = purpose_map.get(int(row[\"PURPOSE\"]))\n",
    "    ticket_desc = ticket_map.get(int(row[\"TICKET\"]))\n",
    "    age = age_map.get(int(row[\"AGE\"]))\n",
    "    income = income_map.get(int(row[\"INCOME\"]))\n",
    "    gender = male_map.get(int(row[\"MALE\"]))\n",
    "    return (f\"The travel time and cost for each mode is expressed as the following dictionary format: \"\n",
    "            f\"{{Travel time: {travel_time}, Travel cost: {travel_cost}}}. With cost in CHF, time in minutes. \"\n",
    "            f\"The travel purpose is {purpose} and ticket is {ticket_desc}. \"\n",
    "            f\"The person is {group}, {gender}, {age} years old and income {income} CHF per year. \")\n",
    "\n",
    "#Test\n",
    "#print(create_text(df.iloc[0]))\n",
    "# Tạo cột văn bản mới\n",
    "df['INFOR'] = df.apply(create_text, axis=1)\n",
    "\n",
    "# # Lưu kết quả vào tệp CSV mới\n",
    "df[['ID', 'INFOR', 'CHOICE']].to_csv('textdata.csv', index=False)\n",
    "\n",
    "print(\"Dữ liệu đã được chuyển đổi và lưu vào 'text_data.csv'\")"
   ]
  }
 ],
 "metadata": {
  "kernelspec": {
   "display_name": "FINAL",
   "language": "python",
   "name": "python3"
  },
  "language_info": {
   "codemirror_mode": {
    "name": "ipython",
    "version": 3
   },
   "file_extension": ".py",
   "mimetype": "text/x-python",
   "name": "python",
   "nbconvert_exporter": "python",
   "pygments_lexer": "ipython3",
   "version": "3.11.11"
  }
 },
 "nbformat": 4,
 "nbformat_minor": 5
}
