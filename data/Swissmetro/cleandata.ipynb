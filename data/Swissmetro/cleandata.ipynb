{
 "cells": [
  {
   "cell_type": "code",
   "execution_count": 1,
   "id": "c1afcd11",
   "metadata": {},
   "outputs": [],
   "source": [
    "import pandas as pd\n",
    "import numpy as np\n",
    "from sklearn.model_selection import train_test_split"
   ]
  },
  {
   "cell_type": "code",
   "execution_count": 27,
   "id": "bb237123",
   "metadata": {},
   "outputs": [
    {
     "name": "stdout",
     "output_type": "stream",
     "text": [
      "7704\n"
     ]
    }
   ],
   "source": [
    "df = pd.read_csv('swissmetro.csv')\n",
    "df = df[df[\"AGE\"] != 6]\n",
    "df = df[df[\"INCOME\"] != 4]\n",
    "df = df[df[\"CHOICE\"] != 0] #9801\n",
    "df = df[df[\"CAR_AV\"] != 0] #8460\n",
    "df = df[df[\"PURPOSE\"] != 9]\n",
    "df = df[df[\"TICKET\"] != 10]\n",
    "df = df[df[\"GA\"] != 1]\n",
    "\n",
    "df.to_csv('swissmetro_clean.csv', index=False)\n",
    "print(len(df))\n"
   ]
  },
  {
   "cell_type": "code",
   "execution_count": 28,
   "id": "e41c4b28",
   "metadata": {},
   "outputs": [],
   "source": [
    "# chọn các thuộc tính cần thiết\n",
    "\n",
    "df = pd.read_csv('swissmetro_clean.csv')\n",
    "selected = df[['ID','GROUP','PURPOSE','TICKET' ,'AGE', 'MALE', 'INCOME', 'CAR_TT', 'SM_TT', 'TRAIN_TT','TRAIN_HE', 'SM_HE', 'CAR_CO', 'SM_CO', 'TRAIN_CO', 'CHOICE']]\n",
    "x = selected.copy()\n",
    "x.to_csv('selected.csv', index=False)"
   ]
  },
  {
   "cell_type": "code",
   "execution_count": null,
   "id": "2c0e7899",
   "metadata": {},
   "outputs": [],
   "source": [
    "#convert tabulor data to text data"
   ]
  },
  {
   "cell_type": "code",
   "execution_count": 1,
   "id": "3fb7984d",
   "metadata": {},
   "outputs": [
    {
     "name": "stdout",
     "output_type": "stream",
     "text": [
      "Tổng số mẫu: 7704\n",
      "Train set: 6163 mẫu (80.0%)\n",
      "Test set: 1541 mẫu (20.0%)\n"
     ]
    }
   ],
   "source": [
    "import pandas as pd\n",
    "from sklearn.model_selection import train_test_split\n",
    "\n",
    "# Đọc dữ liệu từ file\n",
    "df = pd.read_csv(\"textdata.csv\")  # Đảm bảo file nằm cùng thư mục với script\n",
    "\n",
    "# Đầu tiên chia thành train (80%) và test (20%) với stratify theo cột 'CHOICE'\n",
    "temp_df, test_df = train_test_split(df, test_size=0.2, stratify=df['CHOICE'], random_state=42)\n",
    "\n",
    "# Sau đó chia train thành validation (20%) và train (60%) với stratify theo cột 'CHOICE'\n",
    "#train_df, val_df = train_test_split(temp_df, test_size=0.25, stratify=temp_df['CHOICE'], random_state=42)\n",
    "# Lưu ra ba file\n",
    "temp_df.to_csv(\"train.csv\", index=False) \n",
    "test_df.to_csv(\"test.csv\", index=False)\n",
    "\n",
    "# In thông tin về kích thước các tập dữ liệu\n",
    "print(f\"Tổng số mẫu: {len(df)}\")\n",
    "print(f\"Train set: {len(temp_df)} mẫu ({len(temp_df)/len(df)*100:.1f}%)\")\n",
    "# print(f\"Validation set: {len(val_df)} mẫu ({len(val_df)/len(df)*100:.1f}%)\")\n",
    "print(f\"Test set: {len(test_df)} mẫu ({len(test_df)/len(df)*100:.1f}%)\")\n",
    "\n"
   ]
  }
 ],
 "metadata": {
  "kernelspec": {
   "display_name": "FINAL",
   "language": "python",
   "name": "python3"
  },
  "language_info": {
   "codemirror_mode": {
    "name": "ipython",
    "version": 3
   },
   "file_extension": ".py",
   "mimetype": "text/x-python",
   "name": "python",
   "nbconvert_exporter": "python",
   "pygments_lexer": "ipython3",
   "version": "3.11.11"
  }
 },
 "nbformat": 4,
 "nbformat_minor": 5
}
