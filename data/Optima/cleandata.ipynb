{
 "cells": [
  {
   "cell_type": "code",
   "execution_count": 40,
   "id": "972dcb5c",
   "metadata": {},
   "outputs": [],
   "source": [
    "import pandas as pd\n",
    "\n",
    "# Đọc file .dat với phân tách bằng tab\n",
    "df = pd.read_csv('Optima.dat', sep='\\t')\n",
    "\n",
    "# Ghi ra file .csv\n",
    "df.to_csv('optima.csv', index=False)"
   ]
  },
  {
   "cell_type": "code",
   "execution_count": 41,
   "id": "f598ef31",
   "metadata": {},
   "outputs": [],
   "source": [
    "import pandas as pd\n",
    "df = pd.read_csv('optima.csv')\n",
    "df = df[df['Choice'] != -1]\n",
    "df.to_csv('optima.csv', index=False)"
   ]
  },
  {
   "cell_type": "code",
   "execution_count": 48,
   "id": "aba48cea",
   "metadata": {},
   "outputs": [
    {
     "name": "stdout",
     "output_type": "stream",
     "text": [
      "Choice\n",
      "1    1256\n",
      "0     536\n",
      "2     114\n",
      "Name: count, dtype: int64\n"
     ]
    }
   ],
   "source": [
    "df = pd.read_csv('optima.csv')\n",
    "counts = df[\"Choice\"].value_counts()\n",
    "print(counts)"
   ]
  },
  {
   "cell_type": "code",
   "execution_count": 49,
   "id": "8b4bb774",
   "metadata": {},
   "outputs": [],
   "source": [
    "df1 = df[df[\"Choice\"] == 0]\n",
    "df1.to_csv('optima1.csv', index=False)"
   ]
  },
  {
   "cell_type": "code",
   "execution_count": 51,
   "id": "d28f0649",
   "metadata": {},
   "outputs": [
    {
     "name": "stdout",
     "output_type": "stream",
     "text": [
      "[ 1 -1  2  4  3  0  5  6]\n"
     ]
    }
   ],
   "source": [
    "print(df[\"NbCar\"].unique())"
   ]
  },
  {
   "cell_type": "code",
   "execution_count": null,
   "id": "7818546a",
   "metadata": {},
   "outputs": [],
   "source": [
    "df1 = df[[\"ID\", \"age\", \"Gender\", \"NbCar\",\"NbMoto\", \"NbBicy\", \"CarAvail\", \"DestAct\", \"Income\", \"Education\", \"distance_km\", \"TimePT\", \"TimeCar\", \"CostPT\", \"CostCarCHF\", \"NbTransf\", \"Choice\"]]\n",
    "#You are an Al designed to help predict travel modes based on user profiles and past data. Please provide the response in JSON format only. The response should be a dictionary with a single key 'predicted_mode' and the corresponding travel mode (either 'public transports (train, bus, tram, etc.), 'private modes (car, motorbike, etc.)', 'soft modes (bike, walk, etc.)') as its value"
   ]
  },
  {
   "cell_type": "code",
   "execution_count": null,
   "id": "29b2d4ec",
   "metadata": {},
   "outputs": [
    {
     "name": "stdout",
     "output_type": "stream",
     "text": [
      "Số dòng trước khi lọc: 1906\n",
      "Số dòng sau khi lọc: 1523\n"
     ]
    }
   ],
   "source": [
    "import pandas as pd\n",
    "\n",
    "# Giả sử df là DataFrame của bạn\n",
    "# Lọc bỏ tất cả hàng có chứa giá trị -1 ở bất kỳ cột nào (lọc tất cả các hàng có giá trị thiếu)\n",
    "df1 = pd.read_csv('optima_selected.csv')\n",
    "df_clean = df1[(df1 != -1).all(axis=1)]\n",
    "\n",
    "print(\"Số dòng trước khi lọc:\", len(df))\n",
    "print(\"Số dòng sau khi lọc:\", len(df_clean))\n",
    "#df_clean.to_csv('selected.csv', index=False)"
   ]
  },
  {
   "cell_type": "code",
   "execution_count": 65,
   "id": "915855b3",
   "metadata": {},
   "outputs": [
    {
     "name": "stdout",
     "output_type": "stream",
     "text": [
      "Số dòng trước khi lọc: 1906\n",
      "Số dòng sau khi lọc: 1643\n"
     ]
    }
   ],
   "source": [
    "import pandas as pd\n",
    "\n",
    "# giả sử df là DataFrame của bạn\n",
    "# chọn tất cả các cột trừ NbMoto và NbBicy\n",
    "cols_to_check = df1.columns.difference([\"NbMoto\", \"NbBicy\"])\n",
    "\n",
    "# lọc các hàng không có -1 ở các cột này\n",
    "df_clean = df1[~df1[cols_to_check].isin([-1]).any(axis=1)]\n",
    "\n",
    "print(\"Số dòng trước khi lọc:\", len(df))\n",
    "print(\"Số dòng sau khi lọc:\", len(df_clean))\n"
   ]
  }
 ],
 "metadata": {
  "kernelspec": {
   "display_name": "FINAL",
   "language": "python",
   "name": "python3"
  },
  "language_info": {
   "codemirror_mode": {
    "name": "ipython",
    "version": 3
   },
   "file_extension": ".py",
   "mimetype": "text/x-python",
   "name": "python",
   "nbconvert_exporter": "python",
   "pygments_lexer": "ipython3",
   "version": "3.11.11"
  }
 },
 "nbformat": 4,
 "nbformat_minor": 5
}
