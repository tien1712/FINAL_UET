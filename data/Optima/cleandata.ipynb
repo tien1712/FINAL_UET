{
 "cells": [
  {
   "cell_type": "code",
   "execution_count": 1,
   "id": "972dcb5c",
   "metadata": {},
   "outputs": [],
   "source": [
    "import pandas as pd\n",
    "\n",
    "# Đọc file .dat với phân tách bằng tab\n",
    "df = pd.read_csv('Optima.dat', sep='\\t')\n",
    "\n",
    "# Ghi ra file .csv\n",
    "df.to_csv('optima.csv', index=False)"
   ]
  },
  {
   "cell_type": "code",
   "execution_count": null,
   "id": "f598ef31",
   "metadata": {},
   "outputs": [],
   "source": [
    "import pandas as pd\n",
    "df = pd.read_csv('optima.csv')\n",
    "df = df[df['Choice'] != -1]\n",
    "df.to_csv('optima.csv', index=False)"
   ]
  },
  {
   "cell_type": "code",
   "execution_count": null,
   "id": "8b3be9aa",
   "metadata": {},
   "outputs": [],
   "source": []
  }
 ],
 "metadata": {
  "kernelspec": {
   "display_name": "FINAL",
   "language": "python",
   "name": "python3"
  },
  "language_info": {
   "codemirror_mode": {
    "name": "ipython",
    "version": 3
   },
   "file_extension": ".py",
   "mimetype": "text/x-python",
   "name": "python",
   "nbconvert_exporter": "python",
   "pygments_lexer": "ipython3",
   "version": "3.11.11"
  }
 },
 "nbformat": 4,
 "nbformat_minor": 5
}
